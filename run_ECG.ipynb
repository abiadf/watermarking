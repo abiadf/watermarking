{
 "cells": [
  {
   "cell_type": "markdown",
   "metadata": {},
   "source": [
    "##### This module runs the ECG algorithm, tailored to the TimeWak datasets\n"
   ]
  },
  {
   "cell_type": "code",
   "execution_count": 1,
   "metadata": {
    "ExecuteTime": {
     "end_time": "2025-03-20T13:30:20.077373Z",
     "start_time": "2025-03-20T13:30:20.001071Z"
    }
   },
   "outputs": [
    {
     "name": "stdout",
     "output_type": "stream",
     "text": [
      "beeeeep\n"
     ]
    }
   ],
   "source": [
    "import numpy as np\n",
    "import pandas as pd\n",
    "\n",
    "import ECG.ECG_parameters as param\n",
    "from ECG.ECG_fragile import SignalProcessing, WatermarkGenerator, FragileWatermark, SignalAnalysis2\n",
    "from ECG.ECG_robust import Preprocessing, WatermarkEmbedding, SignalAnalysis\n",
    "from utils import get_mae, normalize_dataset"
   ]
  },
  {
   "cell_type": "code",
   "execution_count": 2,
   "metadata": {
    "jupyter": {
     "is_executing": true
    }
   },
   "outputs": [],
   "source": [
    "\"\"\"From TimeWak. load the real and fake data\"\"\"\n",
    "iterations = 5\n",
    "\n",
    "original_data = pd.read_csv('datasets/ETTh.csv', \n",
    "                            parse_dates=[0], \n",
    "                            date_format= '%d-%m-%y %H:%M')\n"
   ]
  },
  {
   "cell_type": "code",
   "execution_count": 3,
   "metadata": {},
   "outputs": [],
   "source": [
    "\"\"\"Function for Robust embedding for 1 timeseries\"\"\"\n",
    "\n",
    "def run_robust_ECG_for_1_column(column_number):\n",
    "    \"\"\"Run the ECG watermark for 1 column. NOTE we normalize the signal y-vals before watermarking\"\"\"\n",
    "    binary_ssn       = Preprocessing.convert_ssn_to_binary(param.user_ssn)\n",
    "    binary_ssn_split = Preprocessing.split_and_pad_binary_ssn(binary_ssn, binary_ssn_chunk_len = 4)\n",
    "    ssn_with_hamming = Preprocessing.apply_hamming_to_all_ssn_chunks(binary_ssn_split)\n",
    "\n",
    "    subsequence_length = param.subsequence_len_factor * len(ssn_with_hamming) # m = 3*l (from paper)\n",
    "\n",
    "    # n_timesteps = math.floor(subsequence_length * param.num_subsequences) # from paper\n",
    "    n_timesteps = len(original_data.iloc[:, 0]) # how many x-values\n",
    "    signal = normalize_dataset(original_data.iloc[:, column_number].values)\n",
    "\n",
    "    watermark_sequence = WatermarkEmbedding._turn_watermark_to_nonbinary_sequence(ssn_with_hamming)\n",
    "    ecg_subsequences   = WatermarkEmbedding._split_signal_to_subsequences(signal, subsequence_length, n_timesteps)\n",
    "    watermarked_signal = WatermarkEmbedding.get_watermarked_subsequences(ecg_subsequences, watermark_sequence)\n",
    "\n",
    "    mae = get_mae(signal, watermarked_signal)\n",
    "    return signal, watermarked_signal, mae\n",
    "\n"
   ]
  },
  {
   "cell_type": "code",
   "execution_count": 4,
   "metadata": {},
   "outputs": [
    {
     "name": "stdout",
     "output_type": "stream",
     "text": [
      "Robust: MAE 0.0002520403628882123,\n",
      " std=6.574687213604422e-07\n"
     ]
    }
   ],
   "source": [
    "\"\"\"Run the single-timeseries ROBUST embedding algo on ALL timeseries (except for x-axis)\"\"\"\n",
    "\n",
    "num_columns = original_data.shape[1]\n",
    "\n",
    "mae_list = []\n",
    "for col_num in range(1, num_columns): # start at col 1 to ignore x-axis\n",
    "    signal, watermarked_signal, mae = run_robust_ECG_for_1_column(col_num)\n",
    "    mae_list.append(mae)\n",
    "\n",
    "print(f\"Robust: MAE {np.mean(mae_list)},\\n std={np.std(mae_list)}\")\n",
    "\n",
    "\n",
    "# should_we_plot = 0\n",
    "# SignalAnalysis.plot_robust_results(should_we_plot, signal, watermarked_signal)"
   ]
  },
  {
   "cell_type": "code",
   "execution_count": 5,
   "metadata": {},
   "outputs": [
    {
     "name": "stdout",
     "output_type": "stream",
     "text": [
      "scaled_signal_no_lsb shape: (17420,)\n",
      "Number of segments: 272\n",
      "First segment indices: [array([15, 16, 17, 18, 19, 20, 21, 22, 23, 24, 25, 26, 27, 28, 29, 30, 31,\n",
      "       32, 33, 34, 35, 36, 37, 38, 39, 40, 41, 42]), array([ 8,  9, 10, 11, 12, 13, 14, 15, 16, 17, 18, 19, 20, 21, 22, 23, 24,\n",
      "       25, 26, 27, 28, 29, 30, 31, 32, 33, 34, 35])]\n",
      "Seeded hash example: 0000000000000000001011111111111111111111\n",
      "First few seeded hashes: ['0000000000000000001011111111111111111111', '0000000000000000001011111111111111111111', '0000000000000000001011111111111111111111', '0000000000000000001011111111111111111111', '0000000000000000001011111111111111111111']\n",
      "Fragile MAE: 0.0008166295453456023\n"
     ]
    },
    {
     "name": "stderr",
     "output_type": "stream",
     "text": [
      "c:\\watermarking\\ECG\\ECG_fragile.py:198: RuntimeWarning: invalid value encountered in cast\n",
      "  scaled_values = (segment_hashes * (2**bit_length - 1)).astype(int)  # Scale to [0, 255] for 8-bit\n"
     ]
    }
   ],
   "source": [
    "\"\"\"Fragile embedding. NOTE the input to this is the ROBUSTLY WATERMARKED signal\"\"\"\n",
    "\n",
    "def run_fragile_ECG_for_1_column(watermarked_signal):\n",
    "    \"\"\"Input: the output of the robust watermark algo\"\"\"\n",
    "\n",
    "    # shifted_ecg_signal, min_value   = SignalProcessing.shift_signal_up_to_remove_negative_values(robust.ecg_signal)\n",
    "    shifted_ecg_signal, min_value   = SignalProcessing.shift_signal_up_to_remove_negative_values(watermarked_signal)\n",
    "    scaled_signal                   = SignalProcessing.scale_signal_and_remove_decimals(shifted_ecg_signal, param.ECG_SCALE_FACTOR)\n",
    "    scaled_signal_no_lsb            = SignalProcessing.remove_lsb_from_each_element_in_signal(scaled_signal)\n",
    "    segments_list, num_segments_in_signal= WatermarkGenerator.split_signal_to_heartbeat_segments(scaled_signal_no_lsb)\n",
    "    window_indices_for_all_segments = WatermarkGenerator.get_window_indices_for_all_segments(segments_list, param.SEED_K)\n",
    "    segment_hashes                  = FragileWatermark.compute_segment_power_hashes(scaled_signal_no_lsb, window_indices_for_all_segments, num_segments_in_signal)\n",
    "    print(f\"scaled_signal_no_lsb shape: {scaled_signal_no_lsb.shape}\")\n",
    "    print(f\"Number of segments: {num_segments_in_signal}\")\n",
    "    print(f\"First segment indices: {window_indices_for_all_segments[0] if window_indices_for_all_segments else 'Empty'}\")\n",
    "    quantized_segment_hashes        = FragileWatermark.quantize_hash_values_for_all_segments(segment_hashes, param.BIT_LENGTH)\n",
    "    seeded_hash_segments            = FragileWatermark.prepend_seed_to_every_hash(quantized_segment_hashes, param.SEED_K, param.BIT_LENGTH)\n",
    "    print(f\"First few seeded hashes: {seeded_hash_segments[:5]}\")\n",
    "    watermarks_for_all_segments     = FragileWatermark.convert_hash_to_int_and_generate_watermark(segments_list, seeded_hash_segments)\n",
    "    # watermarked_signal              = embed_watermark_into_ecg(scaled_signal_no_lsb, segments_list, watermarks_for_all_segments)\n",
    "    watermarked_ecg_segments        = FragileWatermark.apply_lsb_watermark_to_ecg_segments(scaled_signal_no_lsb, segments_list, watermarks_for_all_segments)\n",
    "    watermarked_signal              = FragileWatermark.concat_watermarked_segments(watermarked_ecg_segments)\n",
    "    watermarked_ecg_signal_unscaled = SignalProcessing.unscale_signal(watermarked_signal, param.ECG_SCALE_FACTOR)\n",
    "    watermarked_ecg_signal_unshifted= SignalProcessing.unshift_signal_back_to_original(watermarked_ecg_signal_unscaled, min_value)\n",
    "\n",
    "    return watermarked_ecg_signal_unshifted\n",
    "\n",
    "watermarked_ecg_signal_unshifted = run_fragile_ECG_for_1_column(watermarked_signal)\n",
    "\n",
    "fragile_mae = get_mae(signal, watermarked_ecg_signal_unshifted)\n",
    "print(f\"Fragile MAE: {fragile_mae}\")\n",
    "\n",
    "should_we_plot = 0\n",
    "SignalAnalysis2.plot_fragile_results(should_we_plot, watermarked_ecg_signal_unshifted)\n"
   ]
  },
  {
   "cell_type": "code",
   "execution_count": null,
   "metadata": {},
   "outputs": [],
   "source": []
  }
 ],
 "metadata": {
  "kernelspec": {
   "display_name": "myenv",
   "language": "python",
   "name": "python3"
  },
  "language_info": {
   "codemirror_mode": {
    "name": "ipython",
    "version": 3
   },
   "file_extension": ".py",
   "mimetype": "text/x-python",
   "name": "python",
   "nbconvert_exporter": "python",
   "pygments_lexer": "ipython3",
   "version": "3.11.4"
  }
 },
 "nbformat": 4,
 "nbformat_minor": 4
}
