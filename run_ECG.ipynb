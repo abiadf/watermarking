{
 "cells": [
  {
   "cell_type": "markdown",
   "metadata": {},
   "source": [
    "##### This module runs the ECG algorithm, tailored to the TimeWak datasets\n"
   ]
  },
  {
   "cell_type": "code",
   "execution_count": 1,
   "metadata": {
    "ExecuteTime": {
     "end_time": "2025-03-20T13:30:20.077373Z",
     "start_time": "2025-03-20T13:30:20.001071Z"
    }
   },
   "outputs": [],
   "source": [
    "import math\n",
    "import numpy as np\n",
    "import pandas as pd\n",
    "\n",
    "import ECG.ECG_parameters as param\n",
    "from ECG.ECG_robust import Preprocessing, WatermarkEmbedding, SignalAnalysis\n",
    "from utils import get_mae"
   ]
  },
  {
   "cell_type": "code",
   "execution_count": 2,
   "metadata": {
    "jupyter": {
     "is_executing": true
    }
   },
   "outputs": [
    {
     "name": "stdout",
     "output_type": "stream",
     "text": [
      "17420\n"
     ]
    }
   ],
   "source": [
    "\"\"\"From TimeWak. load the real and fake data\"\"\"\n",
    "iterations = 5\n",
    "\n",
    "original_data = pd.read_csv('datasets/ETTh.csv', \n",
    "                            parse_dates=[0], \n",
    "                            date_format= '%d-%m-%y %H:%M')\n",
    "print(len(original_data.iloc[:, 0]))\n"
   ]
  },
  {
   "cell_type": "code",
   "execution_count": 9,
   "metadata": {},
   "outputs": [
    {
     "ename": "ValueError",
     "evalue": "index can't contain negative values",
     "output_type": "error",
     "traceback": [
      "\u001b[0;31m---------------------------------------------------------------------------\u001b[0m",
      "\u001b[0;31mValueError\u001b[0m                                Traceback (most recent call last)",
      "Cell \u001b[0;32mIn[9], line 14\u001b[0m\n\u001b[1;32m     11\u001b[0m ecg_signal  \u001b[38;5;241m=\u001b[39m original_data\u001b[38;5;241m.\u001b[39miloc[:, \u001b[38;5;241m1\u001b[39m]\u001b[38;5;241m.\u001b[39mvalues\n\u001b[1;32m     13\u001b[0m watermark_sequence     \u001b[38;5;241m=\u001b[39m WatermarkEmbedding\u001b[38;5;241m.\u001b[39m_turn_watermark_to_nonbinary_sequence(ssn_with_hamming)\n\u001b[0;32m---> 14\u001b[0m ecg_subsequences       \u001b[38;5;241m=\u001b[39m \u001b[43mWatermarkEmbedding\u001b[49m\u001b[38;5;241;43m.\u001b[39;49m\u001b[43m_split_signal_to_subsequences\u001b[49m\u001b[43m(\u001b[49m\u001b[43mecg_signal\u001b[49m\u001b[43m,\u001b[49m\u001b[43m \u001b[49m\u001b[43msubsequence_length\u001b[49m\u001b[43m,\u001b[49m\u001b[43m \u001b[49m\u001b[43mn_timesteps\u001b[49m\u001b[43m)\u001b[49m\n\u001b[1;32m     15\u001b[0m \u001b[38;5;66;03m# NOTE: ecg_subsequences is shorter than the original signal, because it tries to\u001b[39;00m\n\u001b[1;32m     16\u001b[0m \u001b[38;5;66;03m# make all subsequences of the same length (which it doesnt have to)\u001b[39;00m\n\u001b[1;32m     17\u001b[0m \u001b[38;5;66;03m# NOTE 2: why arent changes in the ECG_robust reflected here???\u001b[39;00m\n\u001b[0;32m   (...)\u001b[0m\n\u001b[1;32m     24\u001b[0m \u001b[38;5;66;03m#     print(len(item))\u001b[39;00m\n\u001b[1;32m     25\u001b[0m \u001b[38;5;66;03m# print(length)    \u001b[39;00m\n\u001b[1;32m     27\u001b[0m watermarked_ecg_signal \u001b[38;5;241m=\u001b[39m WatermarkEmbedding\u001b[38;5;241m.\u001b[39mget_watermarked_subsequences(ecg_subsequences, watermark_sequence)\n",
      "File \u001b[0;32m~/Projects/watermarking/ECG/ECG_robust.py:77\u001b[0m, in \u001b[0;36mWatermarkEmbedding._split_signal_to_subsequences\u001b[0;34m(ecg_signal, subsequence_length, n_timesteps)\u001b[0m\n\u001b[1;32m     75\u001b[0m last_subsequence \u001b[38;5;241m=\u001b[39m ecg_signal[(n_timesteps \u001b[38;5;241m-\u001b[39m subsequence_length):]  \u001b[38;5;66;03m# Get the remainder of the signal\u001b[39;00m\n\u001b[1;32m     76\u001b[0m \u001b[38;5;28;01mif\u001b[39;00m \u001b[38;5;28mlen\u001b[39m(last_subsequence) \u001b[38;5;241m!=\u001b[39m subsequence_length:\n\u001b[0;32m---> 77\u001b[0m     last_subsequence \u001b[38;5;241m=\u001b[39m \u001b[43mnp\u001b[49m\u001b[38;5;241;43m.\u001b[39;49m\u001b[43mpad\u001b[49m\u001b[43m(\u001b[49m\u001b[43mlast_subsequence\u001b[49m\u001b[43m,\u001b[49m\u001b[43m \u001b[49m\u001b[43m(\u001b[49m\u001b[38;5;241;43m0\u001b[39;49m\u001b[43m,\u001b[49m\u001b[43m \u001b[49m\u001b[43msubsequence_length\u001b[49m\u001b[43m \u001b[49m\u001b[38;5;241;43m-\u001b[39;49m\u001b[43m \u001b[49m\u001b[38;5;28;43mlen\u001b[39;49m\u001b[43m(\u001b[49m\u001b[43mlast_subsequence\u001b[49m\u001b[43m)\u001b[49m\u001b[43m)\u001b[49m\u001b[43m,\u001b[49m\u001b[43m \u001b[49m\u001b[38;5;124;43m'\u001b[39;49m\u001b[38;5;124;43mconstant\u001b[39;49m\u001b[38;5;124;43m'\u001b[39;49m\u001b[43m,\u001b[49m\u001b[43m \u001b[49m\u001b[43mconstant_values\u001b[49m\u001b[38;5;241;43m=\u001b[39;49m\u001b[38;5;241;43m0\u001b[39;49m\u001b[43m)\u001b[49m\n\u001b[1;32m     78\u001b[0m ecg_subsequences\u001b[38;5;241m.\u001b[39mappend(last_subsequence)\n\u001b[1;32m     80\u001b[0m \u001b[38;5;28;01mreturn\u001b[39;00m ecg_subsequences\n",
      "File \u001b[0;32m~/Projects/watermarking/myenv/lib/python3.10/site-packages/numpy/lib/arraypad.py:748\u001b[0m, in \u001b[0;36mpad\u001b[0;34m(array, pad_width, mode, **kwargs)\u001b[0m\n\u001b[1;32m    745\u001b[0m     \u001b[38;5;28;01mraise\u001b[39;00m \u001b[38;5;167;01mTypeError\u001b[39;00m(\u001b[38;5;124m'\u001b[39m\u001b[38;5;124m`pad_width` must be of integral type.\u001b[39m\u001b[38;5;124m'\u001b[39m)\n\u001b[1;32m    747\u001b[0m \u001b[38;5;66;03m# Broadcast to shape (array.ndim, 2)\u001b[39;00m\n\u001b[0;32m--> 748\u001b[0m pad_width \u001b[38;5;241m=\u001b[39m \u001b[43m_as_pairs\u001b[49m\u001b[43m(\u001b[49m\u001b[43mpad_width\u001b[49m\u001b[43m,\u001b[49m\u001b[43m \u001b[49m\u001b[43marray\u001b[49m\u001b[38;5;241;43m.\u001b[39;49m\u001b[43mndim\u001b[49m\u001b[43m,\u001b[49m\u001b[43m \u001b[49m\u001b[43mas_index\u001b[49m\u001b[38;5;241;43m=\u001b[39;49m\u001b[38;5;28;43;01mTrue\u001b[39;49;00m\u001b[43m)\u001b[49m\n\u001b[1;32m    750\u001b[0m \u001b[38;5;28;01mif\u001b[39;00m \u001b[38;5;28mcallable\u001b[39m(mode):\n\u001b[1;32m    751\u001b[0m     \u001b[38;5;66;03m# Old behavior: Use user-supplied function with np.apply_along_axis\u001b[39;00m\n\u001b[1;32m    752\u001b[0m     function \u001b[38;5;241m=\u001b[39m mode\n",
      "File \u001b[0;32m~/Projects/watermarking/myenv/lib/python3.10/site-packages/numpy/lib/arraypad.py:514\u001b[0m, in \u001b[0;36m_as_pairs\u001b[0;34m(x, ndim, as_index)\u001b[0m\n\u001b[1;32m    512\u001b[0m         x \u001b[38;5;241m=\u001b[39m x\u001b[38;5;241m.\u001b[39mravel()  \u001b[38;5;66;03m# Ensure x[0], x[1] works\u001b[39;00m\n\u001b[1;32m    513\u001b[0m         \u001b[38;5;28;01mif\u001b[39;00m as_index \u001b[38;5;129;01mand\u001b[39;00m (x[\u001b[38;5;241m0\u001b[39m] \u001b[38;5;241m<\u001b[39m \u001b[38;5;241m0\u001b[39m \u001b[38;5;129;01mor\u001b[39;00m x[\u001b[38;5;241m1\u001b[39m] \u001b[38;5;241m<\u001b[39m \u001b[38;5;241m0\u001b[39m):\n\u001b[0;32m--> 514\u001b[0m             \u001b[38;5;28;01mraise\u001b[39;00m \u001b[38;5;167;01mValueError\u001b[39;00m(\u001b[38;5;124m\"\u001b[39m\u001b[38;5;124mindex can\u001b[39m\u001b[38;5;124m'\u001b[39m\u001b[38;5;124mt contain negative values\u001b[39m\u001b[38;5;124m\"\u001b[39m)\n\u001b[1;32m    515\u001b[0m         \u001b[38;5;28;01mreturn\u001b[39;00m ((x[\u001b[38;5;241m0\u001b[39m], x[\u001b[38;5;241m1\u001b[39m]),) \u001b[38;5;241m*\u001b[39m ndim\n\u001b[1;32m    517\u001b[0m \u001b[38;5;28;01mif\u001b[39;00m as_index \u001b[38;5;129;01mand\u001b[39;00m x\u001b[38;5;241m.\u001b[39mmin() \u001b[38;5;241m<\u001b[39m \u001b[38;5;241m0\u001b[39m:\n",
      "\u001b[0;31mValueError\u001b[0m: index can't contain negative values"
     ]
    }
   ],
   "source": [
    "\"\"\"Robust embedding\"\"\"\n",
    "\n",
    "binary_ssn       = Preprocessing.convert_ssn_to_binary(param.user_ssn)\n",
    "binary_ssn_split = Preprocessing.split_and_pad_binary_ssn(binary_ssn, binary_ssn_chunk_len = 4)\n",
    "ssn_with_hamming = Preprocessing.apply_hamming_to_all_ssn_chunks(binary_ssn_split)\n",
    "\n",
    "subsequence_length = param.subsequence_len_factor * len(ssn_with_hamming) # m = 3*l (from paper)\n",
    "\n",
    "# n_timesteps = len(original_data.iloc[:, 0])\n",
    "n_timesteps = math.floor(subsequence_length * param.num_subsequences) # from paper\n",
    "ecg_signal  = original_data.iloc[:, 1].values\n",
    "\n",
    "watermark_sequence     = WatermarkEmbedding._turn_watermark_to_nonbinary_sequence(ssn_with_hamming)\n",
    "ecg_subsequences       = WatermarkEmbedding._split_signal_to_subsequences(ecg_signal, subsequence_length, n_timesteps)\n",
    "# NOTE: ecg_subsequences is shorter than the original signal, because it tries to\n",
    "# make all subsequences of the same length (which it doesnt have to)\n",
    "# NOTE 2: why arent changes in the ECG_robust reflected here???\n",
    "\n",
    "# print(len(ecg_subsequences), len(ecg_signal))\n",
    "\n",
    "# length = 0\n",
    "# for item in ecg_subsequences:\n",
    "#     length += len(item)\n",
    "#     print(len(item))\n",
    "# print(length)    \n",
    "\n",
    "watermarked_ecg_signal = WatermarkEmbedding.get_watermarked_subsequences(ecg_subsequences, watermark_sequence)\n",
    "\n",
    "mae  = get_mae(ecg_signal, watermarked_ecg_signal)\n",
    "mape = np.mean(np.abs((ecg_signal - watermarked_ecg_signal)/ecg_signal)) * 100\n",
    "# print(f\"Robust: MAE {mae}%, MAPE {mape}%\")\n",
    "\n",
    "should_we_plot = 0\n",
    "SignalAnalysis.plot_robust_results(should_we_plot, ecg_signal, watermarked_ecg_signal)\n"
   ]
  },
  {
   "cell_type": "code",
   "execution_count": null,
   "metadata": {},
   "outputs": [],
   "source": []
  }
 ],
 "metadata": {
  "kernelspec": {
   "display_name": "myenv",
   "language": "python",
   "name": "python3"
  },
  "language_info": {
   "codemirror_mode": {
    "name": "ipython",
    "version": 3
   },
   "file_extension": ".py",
   "mimetype": "text/x-python",
   "name": "python",
   "nbconvert_exporter": "python",
   "pygments_lexer": "ipython3",
   "version": "3.10.11"
  }
 },
 "nbformat": 4,
 "nbformat_minor": 4
}
