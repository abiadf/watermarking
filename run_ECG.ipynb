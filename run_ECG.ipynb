{
 "cells": [
  {
   "cell_type": "markdown",
   "metadata": {},
   "source": [
    "##### This module runs the ECG algorithm, tailored to the TimeWak datasets\n"
   ]
  },
  {
   "cell_type": "code",
   "execution_count": 1,
   "metadata": {
    "ExecuteTime": {
     "end_time": "2025-03-20T13:30:20.077373Z",
     "start_time": "2025-03-20T13:30:20.001071Z"
    }
   },
   "outputs": [],
   "source": [
    "import numpy as np\n",
    "import pandas as pd\n",
    "\n",
    "import ECG.ECG_parameters as param\n",
    "from ECG.ECG_fragile import SignalProcessing, WatermarkGenerator, FragileWatermark, SignalAnalysis2\n",
    "from ECG.ECG_robust import Preprocessing, WatermarkEmbedding, SignalAnalysis\n",
    "from utils import get_mae, normalize_dataset"
   ]
  },
  {
   "cell_type": "code",
   "execution_count": 8,
   "metadata": {
    "jupyter": {
     "is_executing": true
    }
   },
   "outputs": [],
   "source": [
    "\"\"\"From TimeWak. load the real and fake data\"\"\"\n",
    "iterations = 5\n",
    "\n",
    "original_data = pd.read_csv('datasets/energy_data.csv', \n",
    "# original_data = pd.read_csv('datasets/ETTh.csv', \n",
    "                            parse_dates=[0], \n",
    "                            date_format= '%d-%m-%y %H:%M')\n"
   ]
  },
  {
   "cell_type": "code",
   "execution_count": 9,
   "metadata": {},
   "outputs": [],
   "source": [
    "\"\"\"Functions for Robust and Fragile embedding for 1 timeseries. The input timeseries is normalized!\n",
    "NOTE the input to fragile watermarking is the ROBUSTLY WATERMARKED signal\"\"\"\n",
    "\n",
    "\n",
    "def run_robust_ECG_for_1_column(column_number):\n",
    "    \"\"\"Run the ECG watermark for 1 column. NOTE we normalize the signal y-vals before watermarking\"\"\"\n",
    "    # n_timesteps = math.floor(subsequence_length * param.num_subsequences) # from paper\n",
    "    n_timesteps = len(original_data.iloc[:, 0]) # how many x-values\n",
    "    input_signal= normalize_dataset(original_data.iloc[:, column_number].values)\n",
    "\n",
    "    binary_ssn       = Preprocessing.convert_ssn_to_binary(param.user_ssn)\n",
    "    binary_ssn_split = Preprocessing.split_and_pad_binary_ssn(binary_ssn, binary_ssn_chunk_len = 4)\n",
    "    ssn_with_hamming = Preprocessing.apply_hamming_to_all_ssn_chunks(binary_ssn_split)\n",
    "    subsequence_length = param.subsequence_len_factor * len(ssn_with_hamming) # m = 3*l (from paper)\n",
    "    watermark_sequence = WatermarkEmbedding._turn_watermark_to_nonbinary_sequence(ssn_with_hamming)\n",
    "    ecg_subsequences   = WatermarkEmbedding._split_signal_to_subsequences(input_signal, subsequence_length, n_timesteps)\n",
    "    watermarked_signal = WatermarkEmbedding.get_watermarked_subsequences(ecg_subsequences, watermark_sequence)\n",
    "\n",
    "    return input_signal, watermarked_signal\n",
    "\n",
    "def run_fragile_ECG_for_1_column(watermarked_signal):\n",
    "    \"\"\"The input to this is the ROBUSTLY WATERMARKED signal (output of the robust watermark algo)\"\"\"\n",
    "\n",
    "    shifted_signal, min_value       = SignalProcessing.shift_signal_up_to_remove_negative_values(watermarked_signal)\n",
    "    scaled_signal                   = SignalProcessing.scale_signal_and_remove_decimals(shifted_signal, param.ECG_SCALE_FACTOR)\n",
    "    scaled_signal_no_lsb            = SignalProcessing.remove_lsb_from_each_element_in_signal(scaled_signal)\n",
    "    segments_list, num_segments_in_signal= WatermarkGenerator.split_signal_to_heartbeat_segments(scaled_signal_no_lsb)\n",
    "    window_indices_for_all_segments = WatermarkGenerator.get_window_indices_for_all_segments(segments_list, param.SEED_K)\n",
    "    segment_hashes                  = FragileWatermark.compute_segment_power_hashes(scaled_signal_no_lsb, window_indices_for_all_segments, num_segments_in_signal)\n",
    "    quantized_segment_hashes        = FragileWatermark.quantize_hash_values_for_all_segments(segment_hashes, param.BIT_LENGTH)\n",
    "    seeded_hash_segments            = FragileWatermark.prepend_seed_to_every_hash(quantized_segment_hashes, param.SEED_K, param.BIT_LENGTH)\n",
    "    watermarks_for_all_segments     = FragileWatermark.convert_hash_to_int_and_generate_watermark(segments_list, seeded_hash_segments)\n",
    "    watermarked_segments            = FragileWatermark.apply_lsb_watermark_to_ecg_segments(scaled_signal_no_lsb, segments_list, watermarks_for_all_segments)\n",
    "    watermarked_signal              = FragileWatermark.concat_watermarked_segments(watermarked_segments)\n",
    "    watermarked_signal_unscaled     = SignalProcessing.unscale_signal(watermarked_signal, param.ECG_SCALE_FACTOR)\n",
    "    watermarked_signal_unshifted    = SignalProcessing.unshift_signal_back_to_original(watermarked_signal_unscaled, min_value)\n",
    "\n",
    "    return watermarked_signal_unshifted\n"
   ]
  },
  {
   "cell_type": "code",
   "execution_count": 10,
   "metadata": {},
   "outputs": [
    {
     "name": "stderr",
     "output_type": "stream",
     "text": [
      "/Users/fouadabiad/Projects/watermarking/myenv/lib/python3.10/site-packages/numpy/core/fromnumeric.py:3504: RuntimeWarning: Mean of empty slice.\n",
      "  return _methods._mean(a, axis=axis, dtype=dtype,\n",
      "/Users/fouadabiad/Projects/watermarking/myenv/lib/python3.10/site-packages/numpy/core/_methods.py:129: RuntimeWarning: invalid value encountered in scalar divide\n",
      "  ret = ret.dtype.type(ret / rcount)\n"
     ]
    },
    {
     "ename": "ValueError",
     "evalue": "cannot convert float NaN to integer",
     "output_type": "error",
     "traceback": [
      "\u001b[0;31m---------------------------------------------------------------------------\u001b[0m",
      "\u001b[0;31mValueError\u001b[0m                                Traceback (most recent call last)",
      "Cell \u001b[0;32mIn[10], line 8\u001b[0m\n\u001b[1;32m      6\u001b[0m \u001b[38;5;28;01mfor\u001b[39;00m col_num \u001b[38;5;129;01min\u001b[39;00m \u001b[38;5;28mrange\u001b[39m(\u001b[38;5;241m1\u001b[39m, num_columns): \u001b[38;5;66;03m# start at col 1 to ignore x-axis\u001b[39;00m\n\u001b[1;32m      7\u001b[0m     input_signal, watermarked_signal \u001b[38;5;241m=\u001b[39m run_robust_ECG_for_1_column(col_num)\n\u001b[0;32m----> 8\u001b[0m     watermarked_signal_unshifted     \u001b[38;5;241m=\u001b[39m \u001b[43mrun_fragile_ECG_for_1_column\u001b[49m\u001b[43m(\u001b[49m\u001b[43mwatermarked_signal\u001b[49m\u001b[43m)\u001b[49m\n\u001b[1;32m     10\u001b[0m     mae \u001b[38;5;241m=\u001b[39m get_mae(input_signal, watermarked_signal_unshifted)\n\u001b[1;32m     11\u001b[0m     mae_list\u001b[38;5;241m.\u001b[39mappend(mae)\n",
      "Cell \u001b[0;32mIn[9], line 27\u001b[0m, in \u001b[0;36mrun_fragile_ECG_for_1_column\u001b[0;34m(watermarked_signal)\u001b[0m\n\u001b[1;32m     25\u001b[0m scaled_signal                   \u001b[38;5;241m=\u001b[39m SignalProcessing\u001b[38;5;241m.\u001b[39mscale_signal_and_remove_decimals(shifted_signal, param\u001b[38;5;241m.\u001b[39mECG_SCALE_FACTOR)\n\u001b[1;32m     26\u001b[0m scaled_signal_no_lsb            \u001b[38;5;241m=\u001b[39m SignalProcessing\u001b[38;5;241m.\u001b[39mremove_lsb_from_each_element_in_signal(scaled_signal)\n\u001b[0;32m---> 27\u001b[0m segments_list, num_segments_in_signal\u001b[38;5;241m=\u001b[39m \u001b[43mWatermarkGenerator\u001b[49m\u001b[38;5;241;43m.\u001b[39;49m\u001b[43msplit_signal_to_heartbeat_segments\u001b[49m\u001b[43m(\u001b[49m\u001b[43mscaled_signal_no_lsb\u001b[49m\u001b[43m)\u001b[49m\n\u001b[1;32m     28\u001b[0m window_indices_for_all_segments \u001b[38;5;241m=\u001b[39m WatermarkGenerator\u001b[38;5;241m.\u001b[39mget_window_indices_for_all_segments(segments_list, param\u001b[38;5;241m.\u001b[39mSEED_K)\n\u001b[1;32m     29\u001b[0m segment_hashes                  \u001b[38;5;241m=\u001b[39m FragileWatermark\u001b[38;5;241m.\u001b[39mcompute_segment_power_hashes(scaled_signal_no_lsb, window_indices_for_all_segments, num_segments_in_signal)\n",
      "File \u001b[0;32m~/Projects/watermarking/ECG/ECG_fragile.py:77\u001b[0m, in \u001b[0;36mWatermarkGenerator.split_signal_to_heartbeat_segments\u001b[0;34m(ecg_signal_no_lsb)\u001b[0m\n\u001b[1;32m     75\u001b[0m peak_indices, peak_heights\u001b[38;5;241m=\u001b[39m WatermarkGenerator\u001b[38;5;241m.\u001b[39m_get_signal_peaks(ecg_signal_no_lsb, param\u001b[38;5;241m.\u001b[39mMIN_DIST_BETWEEN_PEAKS, param\u001b[38;5;241m.\u001b[39mPEAK_AS_FRACTION_OF_MAX)\n\u001b[1;32m     76\u001b[0m avg_heartbeat_length      \u001b[38;5;241m=\u001b[39m np\u001b[38;5;241m.\u001b[39mfloor(np\u001b[38;5;241m.\u001b[39mmean(np\u001b[38;5;241m.\u001b[39mdiff(peak_indices)))\n\u001b[0;32m---> 77\u001b[0m num_segments_in_signal    \u001b[38;5;241m=\u001b[39m \u001b[38;5;28;43mint\u001b[39;49m\u001b[43m(\u001b[49m\u001b[43mnp\u001b[49m\u001b[38;5;241;43m.\u001b[39;49m\u001b[43mfloor\u001b[49m\u001b[43m(\u001b[49m\u001b[38;5;28;43mlen\u001b[39;49m\u001b[43m(\u001b[49m\u001b[43mecg_signal_no_lsb\u001b[49m\u001b[43m)\u001b[49m\u001b[38;5;241;43m/\u001b[39;49m\u001b[43mavg_heartbeat_length\u001b[49m\u001b[43m)\u001b[49m\u001b[43m)\u001b[49m\n\u001b[1;32m     78\u001b[0m ecg_signal_indices        \u001b[38;5;241m=\u001b[39m np\u001b[38;5;241m.\u001b[39marange(\u001b[38;5;28mlen\u001b[39m(ecg_signal_no_lsb))\n\u001b[1;32m     79\u001b[0m segments_indices_list     \u001b[38;5;241m=\u001b[39m np\u001b[38;5;241m.\u001b[39marray_split(ecg_signal_indices, num_segments_in_signal)\n",
      "\u001b[0;31mValueError\u001b[0m: cannot convert float NaN to integer"
     ]
    }
   ],
   "source": [
    "\"\"\"Run the single-timeseries Robust+fragile embedding algo on ALL timeseries (except for x-axis)\"\"\"\n",
    "\n",
    "num_columns = original_data.shape[1]\n",
    "\n",
    "mae_list = []\n",
    "for col_num in range(1, num_columns): # start at col 1 to ignore x-axis\n",
    "    input_signal, watermarked_signal = run_robust_ECG_for_1_column(col_num)\n",
    "    watermarked_signal_unshifted     = run_fragile_ECG_for_1_column(watermarked_signal)\n",
    "\n",
    "    mae = get_mae(input_signal, watermarked_signal_unshifted)\n",
    "    mae_list.append(mae)\n",
    "\n",
    "print(f\"ECG robust+fragile MAE: avg={np.mean(mae_list)},\\n std={np.std(mae_list)}\")\n",
    "\n",
    "should_we_plot = 0\n",
    "SignalAnalysis.plot_robust_results(should_we_plot, input_signal, watermarked_signal)\n",
    "\n",
    "should_we_plot = 0\n",
    "SignalAnalysis2.plot_fragile_results(should_we_plot, watermarked_signal_unshifted)"
   ]
  },
  {
   "cell_type": "code",
   "execution_count": null,
   "metadata": {},
   "outputs": [],
   "source": []
  }
 ],
 "metadata": {
  "kernelspec": {
   "display_name": "myenv",
   "language": "python",
   "name": "python3"
  },
  "language_info": {
   "codemirror_mode": {
    "name": "ipython",
    "version": 3
   },
   "file_extension": ".py",
   "mimetype": "text/x-python",
   "name": "python",
   "nbconvert_exporter": "python",
   "pygments_lexer": "ipython3",
   "version": "3.11.4"
  }
 },
 "nbformat": 4,
 "nbformat_minor": 4
}
