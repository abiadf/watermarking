{
 "cells": [
  {
   "cell_type": "markdown",
   "metadata": {},
   "source": [
    "##### This module runs all parts of the ECG algorithm, tailored to the TimeWak datasets\n"
   ]
  },
  {
   "cell_type": "code",
   "execution_count": 1,
   "metadata": {},
   "outputs": [],
   "source": [
    "import math\n",
    "import numpy as np\n",
    "import pandas as pd\n",
    "\n",
    "import ECG.ECG_parameters as param\n",
    "from ECG.ECG_robust import Preprocessing, WatermarkEmbedding, SignalAnalysis\n",
    "from utils import get_mae"
   ]
  },
  {
   "cell_type": "code",
   "execution_count": 2,
   "metadata": {},
   "outputs": [
    {
     "name": "stdout",
     "output_type": "stream",
     "text": [
      "17420\n"
     ]
    }
   ],
   "source": [
    "\"\"\"From TimeWak. load the real and fake data\"\"\"\n",
    "iterations = 5\n",
    "\n",
    "original_data = pd.read_csv('datasets/ETTh.csv', \n",
    "                            parse_dates=[0], \n",
    "                            date_format= '%d-%m-%y %H:%M')\n",
    "print(len(original_data.iloc[:, 0]))\n"
   ]
  },
  {
   "cell_type": "code",
   "execution_count": 3,
   "metadata": {},
   "outputs": [
    {
     "name": "stdout",
     "output_type": "stream",
     "text": [
      "Sequences are of different lengths\n"
     ]
    },
    {
     "ename": "ValueError",
     "evalue": "operands could not be broadcast together with shapes (17420,) (17472,) ",
     "output_type": "error",
     "traceback": [
      "\u001b[31m---------------------------------------------------------------------------\u001b[39m",
      "\u001b[31mValueError\u001b[39m                                Traceback (most recent call last)",
      "\u001b[36mCell\u001b[39m\u001b[36m \u001b[39m\u001b[32mIn[3]\u001b[39m\u001b[32m, line 26\u001b[39m\n\u001b[32m     14\u001b[39m \u001b[38;5;66;03m# NOTE: ecg_subsequences is shorter than the original signal, because it tries to\u001b[39;00m\n\u001b[32m     15\u001b[39m \u001b[38;5;66;03m# make all subsequences of the same length (which it doesnt have to)\u001b[39;00m\n\u001b[32m     16\u001b[39m \u001b[38;5;66;03m# NOTE 2: why arent changes in the ECG_robust reflected here???\u001b[39;00m\n\u001b[32m   (...)\u001b[39m\u001b[32m     21\u001b[39m \u001b[38;5;66;03m#     print(len(item))\u001b[39;00m\n\u001b[32m     22\u001b[39m \u001b[38;5;66;03m# print(length)    \u001b[39;00m\n\u001b[32m     24\u001b[39m watermarked_ecg_signal = WatermarkEmbedding.get_watermarked_subsequences(ecg_subsequences, watermark_sequence)\n\u001b[32m---> \u001b[39m\u001b[32m26\u001b[39m mae  = \u001b[43mget_mae\u001b[49m\u001b[43m(\u001b[49m\u001b[43mecg_signal\u001b[49m\u001b[43m,\u001b[49m\u001b[43m \u001b[49m\u001b[43mwatermarked_ecg_signal\u001b[49m\u001b[43m)\u001b[49m\n\u001b[32m     27\u001b[39m mape = np.mean(np.abs((ecg_signal - watermarked_ecg_signal)/ecg_signal)) * \u001b[32m100\u001b[39m\n\u001b[32m     28\u001b[39m \u001b[38;5;66;03m# print(f\"Robust: MAE {mae}%, MAPE {mape}%\")\u001b[39;00m\n",
      "\u001b[36mFile \u001b[39m\u001b[32mc:\\watermarking\\utils.py:10\u001b[39m, in \u001b[36mget_mae\u001b[39m\u001b[34m(sequence1, sequence2)\u001b[39m\n\u001b[32m      8\u001b[39m \u001b[38;5;28;01mif\u001b[39;00m \u001b[38;5;28mlen\u001b[39m(sequence1) != \u001b[38;5;28mlen\u001b[39m(sequence2):\n\u001b[32m      9\u001b[39m     \u001b[38;5;28mprint\u001b[39m(\u001b[33m\"\u001b[39m\u001b[33mSequences are of different lengths\u001b[39m\u001b[33m\"\u001b[39m)       \n\u001b[32m---> \u001b[39m\u001b[32m10\u001b[39m \u001b[38;5;28;01mreturn\u001b[39;00m np.mean(np.abs(\u001b[43msequence1\u001b[49m\u001b[43m \u001b[49m\u001b[43m-\u001b[49m\u001b[43m \u001b[49m\u001b[43msequence2\u001b[49m))\n",
      "\u001b[31mValueError\u001b[39m: operands could not be broadcast together with shapes (17420,) (17472,) "
     ]
    }
   ],
   "source": [
    "\"\"\"Robust embedding\"\"\"\n",
    "\n",
    "binary_ssn       = Preprocessing.convert_ssn_to_binary(param.user_ssn)\n",
    "binary_ssn_split = Preprocessing.split_and_pad_binary_ssn(binary_ssn, binary_ssn_chunk_len = 4)\n",
    "ssn_with_hamming = Preprocessing.apply_hamming_to_all_ssn_chunks(binary_ssn_split)\n",
    "\n",
    "subsequence_length = param.subsequence_len_factor * len(ssn_with_hamming) # m = 3*l (from paper)\n",
    "\n",
    "n_timesteps = len(original_data.iloc[:, 0])\n",
    "ecg_signal  = original_data.iloc[:, 1].values\n",
    "\n",
    "watermark_sequence     = WatermarkEmbedding._turn_watermark_to_nonbinary_sequence(ssn_with_hamming)\n",
    "ecg_subsequences       = WatermarkEmbedding._split_signal_to_subsequences(ecg_signal, subsequence_length, n_timesteps)\n",
    "# NOTE: ecg_subsequences is shorter than the original signal, because it tries to\n",
    "# make all subsequences of the same length (which it doesnt have to)\n",
    "# NOTE 2: why arent changes in the ECG_robust reflected here???\n",
    "\n",
    "# length = 0\n",
    "# for item in ecg_subsequences:\n",
    "#     length += len(item)\n",
    "#     print(len(item))\n",
    "# print(length)    \n",
    "\n",
    "watermarked_ecg_signal = WatermarkEmbedding.get_watermarked_subsequences(ecg_subsequences, watermark_sequence)\n",
    "\n",
    "mae  = get_mae(ecg_signal, watermarked_ecg_signal)\n",
    "mape = np.mean(np.abs((ecg_signal - watermarked_ecg_signal)/ecg_signal)) * 100\n",
    "# print(f\"Robust: MAE {mae}%, MAPE {mape}%\")\n",
    "\n",
    "should_we_plot = 0\n",
    "SignalAnalysis.plot_robust_results(should_we_plot, ecg_signal, watermarked_ecg_signal)\n"
   ]
  },
  {
   "cell_type": "code",
   "execution_count": null,
   "metadata": {},
   "outputs": [],
   "source": []
  }
 ],
 "metadata": {
  "kernelspec": {
   "display_name": "myenv",
   "language": "python",
   "name": "python3"
  },
  "language_info": {
   "codemirror_mode": {
    "name": "ipython",
    "version": 3
   },
   "file_extension": ".py",
   "mimetype": "text/x-python",
   "name": "python",
   "nbconvert_exporter": "python",
   "pygments_lexer": "ipython3",
   "version": "3.11.4"
  }
 },
 "nbformat": 4,
 "nbformat_minor": 2
}
