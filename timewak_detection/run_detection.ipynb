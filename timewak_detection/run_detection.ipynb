{
 "cells": [
  {
   "cell_type": "code",
   "execution_count": null,
   "metadata": {},
   "outputs": [
    {
     "ename": "",
     "evalue": "",
     "output_type": "error",
     "traceback": [
      "\u001b[1;31mRunning cells with 'Python 3.12.9' requires the ipykernel package.\n",
      "\u001b[1;31mRun the following command to install 'ipykernel' into the Python environment. \n",
      "\u001b[1;31mCommand: '/opt/homebrew/bin/python3.12 -m pip install ipykernel -U --user --force-reinstall'"
     ]
    }
   ],
   "source": [
    "import numpy as np\n",
    "\n",
    "from context_fid import Context_FID\n",
    "from metric_utils import display_scores\n"
   ]
  },
  {
   "cell_type": "code",
   "execution_count": null,
   "metadata": {},
   "outputs": [],
   "source": [
    "\"\"\"From TimeWak. load the real and fake data\"\"\"\n",
    "iterations = 5\n",
    "\n",
    "ori_data   = np.load('../toy_exp/samples/sine_ground_truth_24_train.npy')\n",
    "# ori_data   = np.load('../OUTPUT/{dataset_name}/samples/{dataset_name}_norm_truth_{seq_length}_train.npy')  # Uncomment the line if dataset other than Sine is used.\n",
    "fake_data  = np.load('../toy_exp/ddpm_fake_sines.npy')"
   ]
  },
  {
   "cell_type": "code",
   "execution_count": null,
   "metadata": {},
   "outputs": [],
   "source": [
    "## Context FID\n",
    "\n",
    "\"\"\"Compute Context-FID scores over multiple iterations for stability\"\"\"\n",
    "\n",
    "fid_scores = []\n",
    "\n",
    "for iteration in range(iterations):\n",
    "    fid_score = Context_FID(ori_data[:], fake_data[:ori_data.shape[0]])\n",
    "    fid_scores.append(fid_score)\n",
    "    print(f\"Iteration {iteration}: Context-FID = {fid_score}\\n\")\n",
    "\n",
    "mean_score, confidence_interval = display_scores(fid_scores)"
   ]
  }
 ],
 "metadata": {
  "kernelspec": {
   "display_name": "Python 3",
   "language": "python",
   "name": "python3"
  },
  "language_info": {
   "name": "python",
   "version": "3.12.9"
  }
 },
 "nbformat": 4,
 "nbformat_minor": 2
}
