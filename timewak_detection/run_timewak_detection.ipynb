{
 "cells": [
  {
   "cell_type": "code",
   "execution_count": 15,
   "metadata": {},
   "outputs": [],
   "source": [
    "import numpy as np\n",
    "import pandas as pd\n",
    "from context_fid import Context_FID\n",
    "from metric_utils import display_scores\n"
   ]
  },
  {
   "cell_type": "code",
   "execution_count": 21,
   "metadata": {},
   "outputs": [
    {
     "name": "stdout",
     "output_type": "stream",
     "text": [
      "17420\n"
     ]
    }
   ],
   "source": [
    "\"\"\"From TimeWak. load the real and fake data\"\"\"\n",
    "iterations = 5\n",
    "\n",
    "original_data = pd.read_csv('../datasets/ETTh.csv', \n",
    "                            parse_dates=[0], \n",
    "                            date_format= '%d-%m-%y %H:%M')\n",
    "print(len(original_data.iloc[:, 0]))\n",
    "\n",
    "\n",
    "# ori_data   = np.load('../toy_exp/samples/sine_ground_truth_24_train.npy')\n",
    "# # ori_data   = np.load('../OUTPUT/{dataset_name}/samples/{dataset_name}_norm_truth_{seq_length}_train.npy')  # Uncomment the line if dataset other than Sine is used.\n",
    "# fake_data  = np.load('../toy_exp/ddpm_fake_sines.npy')"
   ]
  },
  {
   "cell_type": "code",
   "execution_count": null,
   "metadata": {},
   "outputs": [],
   "source": [
    "## Context FID\n",
    "\n",
    "\"\"\"Compute Context-FID scores over multiple iterations for stability\"\"\"\n",
    "\n",
    "fid_scores = []\n",
    "\n",
    "for iteration in range(iterations):\n",
    "    fid_score = Context_FID(ori_data[:], fake_data[:ori_data.shape[0]])\n",
    "    fid_scores.append(fid_score)\n",
    "    print(f\"Iteration {iteration}: Context-FID = {fid_score}\\n\")\n",
    "\n",
    "mean_score, confidence_interval = display_scores(fid_scores)"
   ]
  }
 ],
 "metadata": {
  "kernelspec": {
   "display_name": "myenv",
   "language": "python",
   "name": "python3"
  },
  "language_info": {
   "codemirror_mode": {
    "name": "ipython",
    "version": 3
   },
   "file_extension": ".py",
   "mimetype": "text/x-python",
   "name": "python",
   "nbconvert_exporter": "python",
   "pygments_lexer": "ipython3",
   "version": "3.11.4"
  }
 },
 "nbformat": 4,
 "nbformat_minor": 2
}
